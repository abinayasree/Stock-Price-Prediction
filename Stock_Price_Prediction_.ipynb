{
  "nbformat": 4,
  "nbformat_minor": 0,
  "metadata": {
    "colab": {
      "provenance": [],
      "include_colab_link": true
    },
    "kernelspec": {
      "name": "python3",
      "display_name": "Python 3"
    },
    "language_info": {
      "name": "python"
    }
  },
  "cells": [
    {
      "cell_type": "markdown",
      "metadata": {
        "id": "view-in-github",
        "colab_type": "text"
      },
      "source": [
        "<a href=\"https://colab.research.google.com/github/abinayasree/Stock-Price-Prediction/blob/main/Stock_Price_Prediction_.ipynb\" target=\"_parent\"><img src=\"https://colab.research.google.com/assets/colab-badge.svg\" alt=\"Open In Colab\"/></a>"
      ]
    },
    {
      "cell_type": "code",
      "source": [
        "!pip install sklearn"
      ],
      "metadata": {
        "colab": {
          "base_uri": "https://localhost:8080/"
        },
        "id": "T0hWTEyuk4wY",
        "outputId": "17f2af23-c310-4c40-991a-dcbca03fdfe6"
      },
      "execution_count": null,
      "outputs": [
        {
          "output_type": "stream",
          "name": "stdout",
          "text": [
            "Looking in indexes: https://pypi.org/simple, https://us-python.pkg.dev/colab-wheels/public/simple/\n",
            "Collecting sklearn\n",
            "  Downloading sklearn-0.0.tar.gz (1.1 kB)\n",
            "Requirement already satisfied: scikit-learn in /usr/local/lib/python3.7/dist-packages (from sklearn) (1.0.2)\n",
            "Requirement already satisfied: scipy>=1.1.0 in /usr/local/lib/python3.7/dist-packages (from scikit-learn->sklearn) (1.7.3)\n",
            "Requirement already satisfied: numpy>=1.14.6 in /usr/local/lib/python3.7/dist-packages (from scikit-learn->sklearn) (1.21.6)\n",
            "Requirement already satisfied: threadpoolctl>=2.0.0 in /usr/local/lib/python3.7/dist-packages (from scikit-learn->sklearn) (3.1.0)\n",
            "Requirement already satisfied: joblib>=0.11 in /usr/local/lib/python3.7/dist-packages (from scikit-learn->sklearn) (1.2.0)\n",
            "Building wheels for collected packages: sklearn\n",
            "  Building wheel for sklearn (setup.py) ... \u001b[?25l\u001b[?25hdone\n",
            "  Created wheel for sklearn: filename=sklearn-0.0-py2.py3-none-any.whl size=1310 sha256=3fef7ebf6bebd85fecf2e97767ae9d4e59858b9adef5aae2b7acc6378fe07640\n",
            "  Stored in directory: /root/.cache/pip/wheels/46/ef/c3/157e41f5ee1372d1be90b09f74f82b10e391eaacca8f22d33e\n",
            "Successfully built sklearn\n",
            "Installing collected packages: sklearn\n",
            "Successfully installed sklearn-0.0\n"
          ]
        }
      ]
    },
    {
      "cell_type": "code",
      "execution_count": null,
      "metadata": {
        "id": "2BahVXShfd5w"
      },
      "outputs": [],
      "source": [
        "import pandas as pd\n",
        "import numpy as np\n",
        "import matplotlib.pyplot as plt\n",
        "%matplotlib inline\n",
        "from matplotlib.pylab import rcParams\n",
        "rcParams['figure.figsize']=20,10\n",
        "from keras.models import Sequential\n",
        "from keras.layers import LSTM,Dropout,Dense\n",
        "from sklearn.preprocessing import MinMaxScaler"
      ]
    },
    {
      "cell_type": "code",
      "source": [
        "df=pd.read_csv(\"/content/NFLX.csv\")\n",
        "df.head()"
      ],
      "metadata": {
        "colab": {
          "base_uri": "https://localhost:8080/",
          "height": 206
        },
        "id": "yQGGOIdzk2u3",
        "outputId": "70e73158-a4c3-420d-ba7d-763250d7cc3e"
      },
      "execution_count": null,
      "outputs": [
        {
          "output_type": "execute_result",
          "data": {
            "text/plain": [
              "         Date        Open        High         Low       Close   Adj Close  \\\n",
              "0  2021-11-01  689.059998  689.969971  676.539978  681.169983  681.169983   \n",
              "1  2021-11-02  683.109985  687.679993  673.820007  677.719971  677.719971   \n",
              "2  2021-11-03  677.270020  689.390015  677.270020  688.289978  688.289978   \n",
              "3  2021-11-04  685.890015  685.940002  665.500000  668.400024  668.400024   \n",
              "4  2021-11-05  663.969971  665.640015  645.010010  645.719971  645.719971   \n",
              "\n",
              "    Volume  \n",
              "0  3110900  \n",
              "1  3888600  \n",
              "2  2334900  \n",
              "3  4865000  \n",
              "4  5283500  "
            ],
            "text/html": [
              "\n",
              "  <div id=\"df-660fe618-af94-4b29-8ed6-d1ebdb33bd82\">\n",
              "    <div class=\"colab-df-container\">\n",
              "      <div>\n",
              "<style scoped>\n",
              "    .dataframe tbody tr th:only-of-type {\n",
              "        vertical-align: middle;\n",
              "    }\n",
              "\n",
              "    .dataframe tbody tr th {\n",
              "        vertical-align: top;\n",
              "    }\n",
              "\n",
              "    .dataframe thead th {\n",
              "        text-align: right;\n",
              "    }\n",
              "</style>\n",
              "<table border=\"1\" class=\"dataframe\">\n",
              "  <thead>\n",
              "    <tr style=\"text-align: right;\">\n",
              "      <th></th>\n",
              "      <th>Date</th>\n",
              "      <th>Open</th>\n",
              "      <th>High</th>\n",
              "      <th>Low</th>\n",
              "      <th>Close</th>\n",
              "      <th>Adj Close</th>\n",
              "      <th>Volume</th>\n",
              "    </tr>\n",
              "  </thead>\n",
              "  <tbody>\n",
              "    <tr>\n",
              "      <th>0</th>\n",
              "      <td>2021-11-01</td>\n",
              "      <td>689.059998</td>\n",
              "      <td>689.969971</td>\n",
              "      <td>676.539978</td>\n",
              "      <td>681.169983</td>\n",
              "      <td>681.169983</td>\n",
              "      <td>3110900</td>\n",
              "    </tr>\n",
              "    <tr>\n",
              "      <th>1</th>\n",
              "      <td>2021-11-02</td>\n",
              "      <td>683.109985</td>\n",
              "      <td>687.679993</td>\n",
              "      <td>673.820007</td>\n",
              "      <td>677.719971</td>\n",
              "      <td>677.719971</td>\n",
              "      <td>3888600</td>\n",
              "    </tr>\n",
              "    <tr>\n",
              "      <th>2</th>\n",
              "      <td>2021-11-03</td>\n",
              "      <td>677.270020</td>\n",
              "      <td>689.390015</td>\n",
              "      <td>677.270020</td>\n",
              "      <td>688.289978</td>\n",
              "      <td>688.289978</td>\n",
              "      <td>2334900</td>\n",
              "    </tr>\n",
              "    <tr>\n",
              "      <th>3</th>\n",
              "      <td>2021-11-04</td>\n",
              "      <td>685.890015</td>\n",
              "      <td>685.940002</td>\n",
              "      <td>665.500000</td>\n",
              "      <td>668.400024</td>\n",
              "      <td>668.400024</td>\n",
              "      <td>4865000</td>\n",
              "    </tr>\n",
              "    <tr>\n",
              "      <th>4</th>\n",
              "      <td>2021-11-05</td>\n",
              "      <td>663.969971</td>\n",
              "      <td>665.640015</td>\n",
              "      <td>645.010010</td>\n",
              "      <td>645.719971</td>\n",
              "      <td>645.719971</td>\n",
              "      <td>5283500</td>\n",
              "    </tr>\n",
              "  </tbody>\n",
              "</table>\n",
              "</div>\n",
              "      <button class=\"colab-df-convert\" onclick=\"convertToInteractive('df-660fe618-af94-4b29-8ed6-d1ebdb33bd82')\"\n",
              "              title=\"Convert this dataframe to an interactive table.\"\n",
              "              style=\"display:none;\">\n",
              "        \n",
              "  <svg xmlns=\"http://www.w3.org/2000/svg\" height=\"24px\"viewBox=\"0 0 24 24\"\n",
              "       width=\"24px\">\n",
              "    <path d=\"M0 0h24v24H0V0z\" fill=\"none\"/>\n",
              "    <path d=\"M18.56 5.44l.94 2.06.94-2.06 2.06-.94-2.06-.94-.94-2.06-.94 2.06-2.06.94zm-11 1L8.5 8.5l.94-2.06 2.06-.94-2.06-.94L8.5 2.5l-.94 2.06-2.06.94zm10 10l.94 2.06.94-2.06 2.06-.94-2.06-.94-.94-2.06-.94 2.06-2.06.94z\"/><path d=\"M17.41 7.96l-1.37-1.37c-.4-.4-.92-.59-1.43-.59-.52 0-1.04.2-1.43.59L10.3 9.45l-7.72 7.72c-.78.78-.78 2.05 0 2.83L4 21.41c.39.39.9.59 1.41.59.51 0 1.02-.2 1.41-.59l7.78-7.78 2.81-2.81c.8-.78.8-2.07 0-2.86zM5.41 20L4 18.59l7.72-7.72 1.47 1.35L5.41 20z\"/>\n",
              "  </svg>\n",
              "      </button>\n",
              "      \n",
              "  <style>\n",
              "    .colab-df-container {\n",
              "      display:flex;\n",
              "      flex-wrap:wrap;\n",
              "      gap: 12px;\n",
              "    }\n",
              "\n",
              "    .colab-df-convert {\n",
              "      background-color: #E8F0FE;\n",
              "      border: none;\n",
              "      border-radius: 50%;\n",
              "      cursor: pointer;\n",
              "      display: none;\n",
              "      fill: #1967D2;\n",
              "      height: 32px;\n",
              "      padding: 0 0 0 0;\n",
              "      width: 32px;\n",
              "    }\n",
              "\n",
              "    .colab-df-convert:hover {\n",
              "      background-color: #E2EBFA;\n",
              "      box-shadow: 0px 1px 2px rgba(60, 64, 67, 0.3), 0px 1px 3px 1px rgba(60, 64, 67, 0.15);\n",
              "      fill: #174EA6;\n",
              "    }\n",
              "\n",
              "    [theme=dark] .colab-df-convert {\n",
              "      background-color: #3B4455;\n",
              "      fill: #D2E3FC;\n",
              "    }\n",
              "\n",
              "    [theme=dark] .colab-df-convert:hover {\n",
              "      background-color: #434B5C;\n",
              "      box-shadow: 0px 1px 3px 1px rgba(0, 0, 0, 0.15);\n",
              "      filter: drop-shadow(0px 1px 2px rgba(0, 0, 0, 0.3));\n",
              "      fill: #FFFFFF;\n",
              "    }\n",
              "  </style>\n",
              "\n",
              "      <script>\n",
              "        const buttonEl =\n",
              "          document.querySelector('#df-660fe618-af94-4b29-8ed6-d1ebdb33bd82 button.colab-df-convert');\n",
              "        buttonEl.style.display =\n",
              "          google.colab.kernel.accessAllowed ? 'block' : 'none';\n",
              "\n",
              "        async function convertToInteractive(key) {\n",
              "          const element = document.querySelector('#df-660fe618-af94-4b29-8ed6-d1ebdb33bd82');\n",
              "          const dataTable =\n",
              "            await google.colab.kernel.invokeFunction('convertToInteractive',\n",
              "                                                     [key], {});\n",
              "          if (!dataTable) return;\n",
              "\n",
              "          const docLinkHtml = 'Like what you see? Visit the ' +\n",
              "            '<a target=\"_blank\" href=https://colab.research.google.com/notebooks/data_table.ipynb>data table notebook</a>'\n",
              "            + ' to learn more about interactive tables.';\n",
              "          element.innerHTML = '';\n",
              "          dataTable['output_type'] = 'display_data';\n",
              "          await google.colab.output.renderOutput(dataTable, element);\n",
              "          const docLink = document.createElement('div');\n",
              "          docLink.innerHTML = docLinkHtml;\n",
              "          element.appendChild(docLink);\n",
              "        }\n",
              "      </script>\n",
              "    </div>\n",
              "  </div>\n",
              "  "
            ]
          },
          "metadata": {},
          "execution_count": 6
        }
      ]
    },
    {
      "cell_type": "code",
      "source": [
        "df[\"Date\"]=pd.to_datetime(df.Date,format=\"%Y-%m-%d\")\n",
        "df.index=df['Date']\n",
        "\n",
        "plt.figure(figsize=(16,8))\n",
        "plt.plot(df[\"Close\"],label='Close Price history')"
      ],
      "metadata": {
        "colab": {
          "base_uri": "https://localhost:8080/",
          "height": 400
        },
        "id": "Ygni8JTfmCmH",
        "outputId": "54182094-0f42-4a94-efe0-2750cad48365"
      },
      "execution_count": null,
      "outputs": [
        {
          "output_type": "execute_result",
          "data": {
            "text/plain": [
              "[<matplotlib.lines.Line2D at 0x7f9ee781c8d0>]"
            ]
          },
          "metadata": {},
          "execution_count": 7
        },
        {
          "output_type": "display_data",
          "data": {
            "text/plain": [
              "<Figure size 1152x576 with 1 Axes>"
            ],
            "image/png": "[encoded data removed]"
          },
          "metadata": {
            "needs_background": "light"
          }
        }
      ]
    },
    {
      "cell_type": "code",
      "source": [
        "data=df.sort_index(ascending=True,axis=0)\n",
        "new_dataset=pd.DataFrame(index=range(0,len(df)),columns=['Date','Close'])\n",
        "for i in range(0,len(data)):\n",
        "    new_dataset[\"Date\"][i]=data['Date'][i]\n",
        "    new_dataset[\"Close\"][i]=data[\"Close\"][i]"
      ],
      "metadata": {
        "id": "YmFyxpC9mNGS"
      },
      "execution_count": null,
      "outputs": []
    },
    {
      "cell_type": "code",
      "source": [
        "new_dataset.index=new_dataset.Date\n",
        "new_dataset.drop([\"Date\"],axis=1,inplace=True)\n",
        "final_dataset=new_dataset.values\n",
        "\n",
        "train_data=final_dataset[0:987,:]\n",
        "valid_data=final_dataset[987:,:]\n",
        "\n",
        "scaler=MinMaxScaler(feature_range=(0,1))\n",
        "scaled_data=scaler.fit_transform(final_dataset)\n",
        "\n",
        "x_train_data,y_train_data=[],[]\n",
        "\n",
        "for i in range(60,len(train_data)):\n",
        "    x_train_data.append(scaled_data[i-60:i,0])\n",
        "    y_train_data.append(scaled_data[i,0])"
      ],
      "metadata": {
        "id": "PvUzPAuUokzo"
      },
      "execution_count": null,
      "outputs": []
    },
    {
      "cell_type": "code",
      "source": [
        "scaler=MinMaxScaler(feature_range=(0,1))\n",
        "final_dataset=new_dataset.values\n",
        "train_data=final_dataset[0:987,:]\n",
        "valid_data=final_dataset[987:,:]\n",
        "#new_dataset.index=new_dataset.Date\n",
        "#new_dataset.drop([\"Date\"],axis=1,inplace=True)\n",
        "scaler=MinMaxScaler(feature_range=(0,1))\n",
        "scaled_data=scaler.fit_transform(final_dataset)\n",
        "x_train_data,y_train_data=[],[]\n",
        "for i in range(60,len(train_data)):\n",
        "    x_train_data.append(scaled_data[i-60:i,0])\n",
        "    y_train_data.append(scaled_data[i,0])\n",
        "    \n",
        "x_train_data,y_train_data=np.array(x_train_data),np.array(y_train_data)\n",
        "x_train_data=np.reshape(x_train_data,(x_train_data.shape[0],x_train_data.shape[1],1))"
      ],
      "metadata": {
        "id": "Pol5DBALn_A1"
      },
      "execution_count": null,
      "outputs": []
    },
    {
      "cell_type": "code",
      "source": [
        "x_train_data,y_train_data=np.array(x_train_data),np.array(y_train_data)\n",
        "\n",
        "x_train_data=np.reshape(x_train_data,(x_train_data.shape[0],x_train_data.shape[1],1))\n",
        "\n",
        "lstm_model=Sequential()\n",
        "lstm_model.add(LSTM(units=50,return_sequences=True,input_shape=(x_train_data.shape[1],1)))\n",
        "lstm_model.add(LSTM(units=50))\n",
        "lstm_model.add(Dense(1))"
      ],
      "metadata": {
        "id": "2cyngLzZpYOR"
      },
      "execution_count": null,
      "outputs": []
    },
    {
      "cell_type": "markdown",
      "source": [
        "# CODE 2"
      ],
      "metadata": {
        "id": "wN5d_wwawhVx"
      }
    },
    {
      "cell_type": "code",
      "source": [
        "import pandas as pd\n",
        "stock_data = pd.read_csv('/content/NFLX.csv', index_col='Date')\n",
        "stock_data.head()"
      ],
      "metadata": {
        "colab": {
          "base_uri": "https://localhost:8080/",
          "height": 237
        },
        "id": "o2VOF-kewfEl",
        "outputId": "d20d8ec7-b2e5-45c5-85f1-66f43f8d1a82"
      },
      "execution_count": null,
      "outputs": [
        {
          "output_type": "execute_result",
          "data": {
            "text/plain": [
              "                  Open        High         Low       Close   Adj Close  \\\n",
              "Date                                                                     \n",
              "2021-11-01  689.059998  689.969971  676.539978  681.169983  681.169983   \n",
              "2021-11-02  683.109985  687.679993  673.820007  677.719971  677.719971   \n",
              "2021-11-03  677.270020  689.390015  677.270020  688.289978  688.289978   \n",
              "2021-11-04  685.890015  685.940002  665.500000  668.400024  668.400024   \n",
              "2021-11-05  663.969971  665.640015  645.010010  645.719971  645.719971   \n",
              "\n",
              "             Volume  \n",
              "Date                 \n",
              "2021-11-01  3110900  \n",
              "2021-11-02  3888600  \n",
              "2021-11-03  2334900  \n",
              "2021-11-04  4865000  \n",
              "2021-11-05  5283500  "
            ],
            "text/html": [
              "\n",
              "  <div id=\"df-a426da2a-5d2f-43a5-b99f-b51d7ca76eb9\">\n",
              "    <div class=\"colab-df-container\">\n",
              "      <div>\n",
              "<style scoped>\n",
              "    .dataframe tbody tr th:only-of-type {\n",
              "        vertical-align: middle;\n",
              "    }\n",
              "\n",
              "    .dataframe tbody tr th {\n",
              "        vertical-align: top;\n",
              "    }\n",
              "\n",
              "    .dataframe thead th {\n",
              "        text-align: right;\n",
              "    }\n",
              "</style>\n",
              "<table border=\"1\" class=\"dataframe\">\n",
              "  <thead>\n",
              "    <tr style=\"text-align: right;\">\n",
              "      <th></th>\n",
              "      <th>Open</th>\n",
              "      <th>High</th>\n",
              "      <th>Low</th>\n",
              "      <th>Close</th>\n",
              "      <th>Adj Close</th>\n",
              "      <th>Volume</th>\n",
              "    </tr>\n",
              "    <tr>\n",
              "      <th>Date</th>\n",
              "      <th></th>\n",
              "      <th></th>\n",
              "      <th></th>\n",
              "      <th></th>\n",
              "      <th></th>\n",
              "      <th></th>\n",
              "    </tr>\n",
              "  </thead>\n",
              "  <tbody>\n",
              "    <tr>\n",
              "      <th>2021-11-01</th>\n",
              "      <td>689.059998</td>\n",
              "      <td>689.969971</td>\n",
              "      <td>676.539978</td>\n",
              "      <td>681.169983</td>\n",
              "      <td>681.169983</td>\n",
              "      <td>3110900</td>\n",
              "    </tr>\n",
              "    <tr>\n",
              "      <th>2021-11-02</th>\n",
              "      <td>683.109985</td>\n",
              "      <td>687.679993</td>\n",
              "      <td>673.820007</td>\n",
              "      <td>677.719971</td>\n",
              "      <td>677.719971</td>\n",
              "      <td>3888600</td>\n",
              "    </tr>\n",
              "    <tr>\n",
              "      <th>2021-11-03</th>\n",
              "      <td>677.270020</td>\n",
              "      <td>689.390015</td>\n",
              "      <td>677.270020</td>\n",
              "      <td>688.289978</td>\n",
              "      <td>688.289978</td>\n",
              "      <td>2334900</td>\n",
              "    </tr>\n",
              "    <tr>\n",
              "      <th>2021-11-04</th>\n",
              "      <td>685.890015</td>\n",
              "      <td>685.940002</td>\n",
              "      <td>665.500000</td>\n",
              "      <td>668.400024</td>\n",
              "      <td>668.400024</td>\n",
              "      <td>4865000</td>\n",
              "    </tr>\n",
              "    <tr>\n",
              "      <th>2021-11-05</th>\n",
              "      <td>663.969971</td>\n",
              "      <td>665.640015</td>\n",
              "      <td>645.010010</td>\n",
              "      <td>645.719971</td>\n",
              "      <td>645.719971</td>\n",
              "      <td>5283500</td>\n",
              "    </tr>\n",
              "  </tbody>\n",
              "</table>\n",
              "</div>\n",
              "      <button class=\"colab-df-convert\" onclick=\"convertToInteractive('df-a426da2a-5d2f-43a5-b99f-b51d7ca76eb9')\"\n",
              "              title=\"Convert this dataframe to an interactive table.\"\n",
              "              style=\"display:none;\">\n",
              "        \n",
              "  <svg xmlns=\"http://www.w3.org/2000/svg\" height=\"24px\"viewBox=\"0 0 24 24\"\n",
              "       width=\"24px\">\n",
              "    <path d=\"M0 0h24v24H0V0z\" fill=\"none\"/>\n",
              "    <path d=\"M18.56 5.44l.94 2.06.94-2.06 2.06-.94-2.06-.94-.94-2.06-.94 2.06-2.06.94zm-11 1L8.5 8.5l.94-2.06 2.06-.94-2.06-.94L8.5 2.5l-.94 2.06-2.06.94zm10 10l.94 2.06.94-2.06 2.06-.94-2.06-.94-.94-2.06-.94 2.06-2.06.94z\"/><path d=\"M17.41 7.96l-1.37-1.37c-.4-.4-.92-.59-1.43-.59-.52 0-1.04.2-1.43.59L10.3 9.45l-7.72 7.72c-.78.78-.78 2.05 0 2.83L4 21.41c.39.39.9.59 1.41.59.51 0 1.02-.2 1.41-.59l7.78-7.78 2.81-2.81c.8-.78.8-2.07 0-2.86zM5.41 20L4 18.59l7.72-7.72 1.47 1.35L5.41 20z\"/>\n",
              "  </svg>\n",
              "      </button>\n",
              "      \n",
              "  <style>\n",
              "    .colab-df-container {\n",
              "      display:flex;\n",
              "      flex-wrap:wrap;\n",
              "      gap: 12px;\n",
              "    }\n",
              "\n",
              "    .colab-df-convert {\n",
              "      background-color: #E8F0FE;\n",
              "      border: none;\n",
              "      border-radius: 50%;\n",
              "      cursor: pointer;\n",
              "      display: none;\n",
              "      fill: #1967D2;\n",
              "      height: 32px;\n",
              "      padding: 0 0 0 0;\n",
              "      width: 32px;\n",
              "    }\n",
              "\n",
              "    .colab-df-convert:hover {\n",
              "      background-color: #E2EBFA;\n",
              "      box-shadow: 0px 1px 2px rgba(60, 64, 67, 0.3), 0px 1px 3px 1px rgba(60, 64, 67, 0.15);\n",
              "      fill: #174EA6;\n",
              "    }\n",
              "\n",
              "    [theme=dark] .colab-df-convert {\n",
              "      background-color: #3B4455;\n",
              "      fill: #D2E3FC;\n",
              "    }\n",
              "\n",
              "    [theme=dark] .colab-df-convert:hover {\n",
              "      background-color: #434B5C;\n",
              "      box-shadow: 0px 1px 3px 1px rgba(0, 0, 0, 0.15);\n",
              "      filter: drop-shadow(0px 1px 2px rgba(0, 0, 0, 0.3));\n",
              "      fill: #FFFFFF;\n",
              "    }\n",
              "  </style>\n",
              "\n",
              "      <script>\n",
              "        const buttonEl =\n",
              "          document.querySelector('#df-a426da2a-5d2f-43a5-b99f-b51d7ca76eb9 button.colab-df-convert');\n",
              "        buttonEl.style.display =\n",
              "          google.colab.kernel.accessAllowed ? 'block' : 'none';\n",
              "\n",
              "        async function convertToInteractive(key) {\n",
              "          const element = document.querySelector('#df-a426da2a-5d2f-43a5-b99f-b51d7ca76eb9');\n",
              "          const dataTable =\n",
              "            await google.colab.kernel.invokeFunction('convertToInteractive',\n",
              "                                                     [key], {});\n",
              "          if (!dataTable) return;\n",
              "\n",
              "          const docLinkHtml = 'Like what you see? Visit the ' +\n",
              "            '<a target=\"_blank\" href=https://colab.research.google.com/notebooks/data_table.ipynb>data table notebook</a>'\n",
              "            + ' to learn more about interactive tables.';\n",
              "          element.innerHTML = '';\n",
              "          dataTable['output_type'] = 'display_data';\n",
              "          await google.colab.output.renderOutput(dataTable, element);\n",
              "          const docLink = document.createElement('div');\n",
              "          docLink.innerHTML = docLinkHtml;\n",
              "          element.appendChild(docLink);\n",
              "        }\n",
              "      </script>\n",
              "    </div>\n",
              "  </div>\n",
              "  "
            ]
          },
          "metadata": {},
          "execution_count": 15
        }
      ]
    },
    {
      "cell_type": "code",
      "source": [
        "import matplotlib.dates as mdates\n",
        "import matplotlib.pyplot as plt\n",
        "import datetime as dt\n",
        "\n",
        "plt.figure(figsize=(15,10))\n",
        "plt.gca().xaxis.set_major_formatter(mdates.DateFormatter('%Y-%m-%d'))\n",
        "plt.gca().xaxis.set_major_locator(mdates.DayLocator(interval=60))\n",
        "x_dates = [dt.datetime.strptime(d, '%Y-%m-%d').date() for d in stock_data.index.values]\n",
        "\n",
        "plt.plot(x_dates, stock_data['High'], label='High')\n",
        "plt.plot(x_dates, stock_data['Low'], label='Low')\n",
        "plt.xlabel('Time Scale')\n",
        "plt.ylabel('Scaled USD')\n",
        "plt.legend()\n",
        "plt.gcf().autofmt_xdate()\n",
        "plt.show()"
      ],
      "metadata": {
        "colab": {
          "base_uri": "https://localhost:8080/",
          "height": 478
        },
        "id": "oeK9gkkzxOsZ",
        "outputId": "a964f7b1-e3a9-4266-e9f8-d0d73b565ee3"
      },
      "execution_count": null,
      "outputs": [
        {
          "output_type": "display_data",
          "data": {
            "text/plain": [
              "<Figure size 1080x720 with 1 Axes>"
            ],
            "image/png": "[encoded data removed]"
          },
          "metadata": {
            "needs_background": "light"
          }
        }
      ]
    },
    {
      "cell_type": "code",
      "source": [
        " import matplotlib.pyplot as plt\n",
        " import pandas as pd\n",
        " import numpy as np\n",
        " from tensorflow.keras.models import Sequential\n",
        " from tensorflow.keras.layers import Dense\n",
        " from tensorflow.keras.layers import LSTM\n",
        " from tensorflow.keras.layers import Dropout\n",
        " from tensorflow.keras.layers import *\n",
        " from tensorflow.keras.callbacks import EarlyStopping\n",
        "\n",
        " from sklearn.preprocessing import MinMaxScaler, StandardScaler\n",
        " from sklearn. metrics import mean_squared_error\n",
        " from sklearn.metrics import mean_absolute_percentage_error\n",
        " from sklearn.model_selection import train_test_split\n",
        " from sklearn.model_selection import TimeSeriesSplit\n",
        " from sklearn.metrics import mean_squared_error"
      ],
      "metadata": {
        "id": "bFTUDP1YyOCR"
      },
      "execution_count": null,
      "outputs": []
    },
    {
      "cell_type": "code",
      "source": [
        "target_y = stock_data['Close']\n",
        "X_feat = stock_data.iloc[:, 0:3]"
      ],
      "metadata": {
        "id": "7Skw1wq1zu5h"
      },
      "execution_count": null,
      "outputs": []
    },
    {
      "cell_type": "code",
      "source": [
        "#Feature scaling\n",
        "sc = StandardScaler()\n",
        "X_ft = sc.fit_transform(X_feat.values)\n",
        "X_ft = pd.DataFrame(columns=X_feat.columns, data=X_ft, index=X_feat.index)"
      ],
      "metadata": {
        "id": "GaAQg9tcz-HG"
      },
      "execution_count": null,
      "outputs": []
    },
    {
      "cell_type": "code",
      "source": [
        "def lstm_split(data, n_steps):\n",
        "  X, y = [], []\n",
        "  for i in range(len(data)-n_steps+1):\n",
        "    X.append(data[i:i + n_steps, -1])\n",
        "    y.append(data[i + n_steps-1, -1])\n",
        "  return np.array(X), np.array(y)"
      ],
      "metadata": {
        "id": "n1EAUcDs0feo"
      },
      "execution_count": null,
      "outputs": []
    },
    {
      "cell_type": "code",
      "source": [
        "X1, y1= lstm_split(stock_data.values, n_steps=2)\n",
        "\n",
        "train_split=0.8\n",
        "split_idx= int(np.ceil(len(X1)*train_split))\n",
        "date_index = stock_data.index\n",
        "\n",
        "X_train, X_test = X1[:split_idx], X1[split_idx:] \n",
        "y_train, y_test = y1[:split_idx], y1[split_idx:] \n",
        "X_train_date, X_test_date = date_index[:split_idx], date_index[split_idx:]\n",
        "\n",
        "print(X1.shape, X_train.shape, X_test.shape, y_test.shape)"
      ],
      "metadata": {
        "colab": {
          "base_uri": "https://localhost:8080/"
        },
        "id": "TM8SHRLE01Sl",
        "outputId": "17977fb8-9833-4369-ec2c-3d2169ead907"
      },
      "execution_count": null,
      "outputs": [
        {
          "output_type": "stream",
          "name": "stdout",
          "text": [
            "(252, 2) (202, 2) (50, 2) (50,)\n"
          ]
        }
      ]
    },
    {
      "cell_type": "code",
      "source": [
        "x_shape = X_train.shape[1]"
      ],
      "metadata": {
        "id": "UjPoLnH9Kt78"
      },
      "execution_count": null,
      "outputs": []
    },
    {
      "cell_type": "code",
      "source": [
        "from numpy import newaxis\n",
        "X_train = X_train[:, :, newaxis]"
      ],
      "metadata": {
        "id": "N3aRz2nwKmwN"
      },
      "execution_count": null,
      "outputs": []
    },
    {
      "cell_type": "code",
      "source": [
        "# The LSTM architecture\n",
        "regressor = Sequential()\n",
        "# First LSTM layer with Dropout regularisation\n",
        "regressor.add(LSTM(units=50, return_sequences=True, input_shape=(X_train.shape[1],1)))\n",
        "regressor.add(Dropout(0.2))\n",
        "# Second LSTM layer\n",
        "regressor.add(LSTM(units=50, return_sequences=True))\n",
        "regressor.add(Dropout(0.2))\n",
        "# Third LSTM layer\n",
        "regressor.add(LSTM(units=50, return_sequences=True))\n",
        "regressor.add(Dropout(0.2))\n",
        "# Fourth LSTM layer\n",
        "regressor.add(LSTM(units=50))\n",
        "regressor.add(Dropout(0.2))\n",
        "# The output layer\n",
        "regressor.add(Dense(units=1))\n",
        "\n",
        "# Compiling the RNN\n",
        "regressor.compile(optimizer='rmsprop',loss='mean_squared_error', metrics = ['accuracy'])\n",
        "# Fitting to the training set\n",
        "regressor.fit(X_train,y_train,epochs=50,batch_size=32)"
      ],
      "metadata": {
        "colab": {
          "base_uri": "https://localhost:8080/"
        },
        "id": "ejGGPoN178JA",
        "outputId": "4776634c-d883-496e-c7d6-90e59a86d040"
      },
      "execution_count": null,
      "outputs": [
        {
          "output_type": "stream",
          "name": "stdout",
          "text": [
            "Epoch 1/50\n",
            "7/7 [==============================] - 9s 13ms/step - loss: 228638205149184.0000 - accuracy: 0.0000e+00\n",
            "Epoch 2/50\n",
            "7/7 [==============================] - 0s 10ms/step - loss: 228638188371968.0000 - accuracy: 0.0000e+00\n",
            "Epoch 3/50\n",
            "7/7 [==============================] - 0s 9ms/step - loss: 228638154817536.0000 - accuracy: 0.0000e+00\n",
            "Epoch 4/50\n",
            "7/7 [==============================] - 0s 13ms/step - loss: 228638104485888.0000 - accuracy: 0.0000e+00\n",
            "Epoch 5/50\n",
            "7/7 [==============================] - 0s 13ms/step - loss: 228638037377024.0000 - accuracy: 0.0000e+00\n",
            "Epoch 6/50\n",
            "7/7 [==============================] - 0s 9ms/step - loss: 228638020599808.0000 - accuracy: 0.0000e+00\n",
            "Epoch 7/50\n",
            "7/7 [==============================] - 0s 10ms/step - loss: 228637987045376.0000 - accuracy: 0.0000e+00\n",
            "Epoch 8/50\n",
            "7/7 [==============================] - 0s 15ms/step - loss: 228637987045376.0000 - accuracy: 0.0000e+00\n",
            "Epoch 9/50\n",
            "7/7 [==============================] - 0s 13ms/step - loss: 228637987045376.0000 - accuracy: 0.0000e+00\n",
            "Epoch 10/50\n",
            "7/7 [==============================] - 0s 13ms/step - loss: 228637953490944.0000 - accuracy: 0.0000e+00\n",
            "Epoch 11/50\n",
            "7/7 [==============================] - 0s 13ms/step - loss: 228637953490944.0000 - accuracy: 0.0000e+00\n",
            "Epoch 12/50\n",
            "7/7 [==============================] - 0s 12ms/step - loss: 228637970268160.0000 - accuracy: 0.0000e+00\n",
            "Epoch 13/50\n",
            "7/7 [==============================] - 0s 12ms/step - loss: 228637919936512.0000 - accuracy: 0.0000e+00\n",
            "Epoch 14/50\n",
            "7/7 [==============================] - 0s 12ms/step - loss: 228637919936512.0000 - accuracy: 0.0000e+00\n",
            "Epoch 15/50\n",
            "7/7 [==============================] - 0s 12ms/step - loss: 228637919936512.0000 - accuracy: 0.0000e+00\n",
            "Epoch 16/50\n",
            "7/7 [==============================] - 0s 12ms/step - loss: 228637953490944.0000 - accuracy: 0.0000e+00\n",
            "Epoch 17/50\n",
            "7/7 [==============================] - 0s 13ms/step - loss: 228637919936512.0000 - accuracy: 0.0000e+00\n",
            "Epoch 18/50\n",
            "7/7 [==============================] - 0s 12ms/step - loss: 228637919936512.0000 - accuracy: 0.0000e+00\n",
            "Epoch 19/50\n",
            "7/7 [==============================] - 0s 13ms/step - loss: 228637903159296.0000 - accuracy: 0.0000e+00\n",
            "Epoch 20/50\n",
            "7/7 [==============================] - 0s 13ms/step - loss: 228637903159296.0000 - accuracy: 0.0000e+00\n",
            "Epoch 21/50\n",
            "7/7 [==============================] - 0s 12ms/step - loss: 228637869604864.0000 - accuracy: 0.0000e+00\n",
            "Epoch 22/50\n",
            "7/7 [==============================] - 0s 12ms/step - loss: 228637869604864.0000 - accuracy: 0.0000e+00\n",
            "Epoch 23/50\n",
            "7/7 [==============================] - 0s 12ms/step - loss: 228637886382080.0000 - accuracy: 0.0000e+00\n",
            "Epoch 24/50\n",
            "7/7 [==============================] - 0s 12ms/step - loss: 228637836050432.0000 - accuracy: 0.0000e+00\n",
            "Epoch 25/50\n",
            "7/7 [==============================] - 0s 14ms/step - loss: 228637869604864.0000 - accuracy: 0.0000e+00\n",
            "Epoch 26/50\n",
            "7/7 [==============================] - 0s 12ms/step - loss: 228637836050432.0000 - accuracy: 0.0000e+00\n",
            "Epoch 27/50\n",
            "7/7 [==============================] - 0s 12ms/step - loss: 228637819273216.0000 - accuracy: 0.0000e+00\n",
            "Epoch 28/50\n",
            "7/7 [==============================] - 0s 11ms/step - loss: 228637869604864.0000 - accuracy: 0.0000e+00\n",
            "Epoch 29/50\n",
            "7/7 [==============================] - 0s 12ms/step - loss: 228637836050432.0000 - accuracy: 0.0000e+00\n",
            "Epoch 30/50\n",
            "7/7 [==============================] - 0s 13ms/step - loss: 228637869604864.0000 - accuracy: 0.0000e+00\n",
            "Epoch 31/50\n",
            "7/7 [==============================] - 0s 13ms/step - loss: 228637819273216.0000 - accuracy: 0.0000e+00\n",
            "Epoch 32/50\n",
            "7/7 [==============================] - 0s 12ms/step - loss: 228637836050432.0000 - accuracy: 0.0000e+00\n",
            "Epoch 33/50\n",
            "7/7 [==============================] - 0s 12ms/step - loss: 228637819273216.0000 - accuracy: 0.0000e+00\n",
            "Epoch 34/50\n",
            "7/7 [==============================] - 0s 12ms/step - loss: 228637802496000.0000 - accuracy: 0.0000e+00\n",
            "Epoch 35/50\n",
            "7/7 [==============================] - 0s 11ms/step - loss: 228637802496000.0000 - accuracy: 0.0000e+00\n",
            "Epoch 36/50\n",
            "7/7 [==============================] - 0s 14ms/step - loss: 228637802496000.0000 - accuracy: 0.0000e+00\n",
            "Epoch 37/50\n",
            "7/7 [==============================] - 0s 12ms/step - loss: 228637802496000.0000 - accuracy: 0.0000e+00\n",
            "Epoch 38/50\n",
            "7/7 [==============================] - 0s 12ms/step - loss: 228637785718784.0000 - accuracy: 0.0000e+00\n",
            "Epoch 39/50\n",
            "7/7 [==============================] - 0s 12ms/step - loss: 228637785718784.0000 - accuracy: 0.0000e+00\n",
            "Epoch 40/50\n",
            "7/7 [==============================] - 0s 12ms/step - loss: 228637752164352.0000 - accuracy: 0.0000e+00\n",
            "Epoch 41/50\n",
            "7/7 [==============================] - 0s 12ms/step - loss: 228637752164352.0000 - accuracy: 0.0000e+00\n",
            "Epoch 42/50\n",
            "7/7 [==============================] - 0s 12ms/step - loss: 228637785718784.0000 - accuracy: 0.0000e+00\n",
            "Epoch 43/50\n",
            "7/7 [==============================] - 0s 12ms/step - loss: 228637735387136.0000 - accuracy: 0.0000e+00\n",
            "Epoch 44/50\n",
            "7/7 [==============================] - 0s 13ms/step - loss: 228637752164352.0000 - accuracy: 0.0000e+00\n",
            "Epoch 45/50\n",
            "7/7 [==============================] - 0s 12ms/step - loss: 228637752164352.0000 - accuracy: 0.0000e+00\n",
            "Epoch 46/50\n",
            "7/7 [==============================] - 0s 13ms/step - loss: 228637735387136.0000 - accuracy: 0.0000e+00\n",
            "Epoch 47/50\n",
            "7/7 [==============================] - 0s 12ms/step - loss: 228637718609920.0000 - accuracy: 0.0000e+00\n",
            "Epoch 48/50\n",
            "7/7 [==============================] - 0s 12ms/step - loss: 228637735387136.0000 - accuracy: 0.0000e+00\n",
            "Epoch 49/50\n",
            "7/7 [==============================] - 0s 13ms/step - loss: 228637718609920.0000 - accuracy: 0.0000e+00\n",
            "Epoch 50/50\n",
            "7/7 [==============================] - 0s 13ms/step - loss: 228637735387136.0000 - accuracy: 0.0000e+00\n"
          ]
        },
        {
          "output_type": "execute_result",
          "data": {
            "text/plain": [
              "<keras.callbacks.History at 0x7f9ed9fe4f50>"
            ]
          },
          "metadata": {},
          "execution_count": 57
        }
      ]
    },
    {
      "cell_type": "code",
      "source": [
        "lstm.fit(X_train,y_train,epochs=50,batch_size=32)"
      ],
      "metadata": {
        "id": "ExWbbJCk2VKB",
        "colab": {
          "base_uri": "https://localhost:8080/"
        },
        "outputId": "07cbf201-6f36-4c86-dd93-5e15ef0c5cd6"
      },
      "execution_count": null,
      "outputs": [
        {
          "output_type": "stream",
          "name": "stdout",
          "text": [
            "Epoch 1/50\n",
            "7/7 [==============================] - 2s 6ms/step - loss: 200493938769920.0000 - accuracy: 0.0000e+00\n",
            "Epoch 2/50\n",
            "7/7 [==============================] - 0s 5ms/step - loss: 190711798431744.0000 - accuracy: 0.0000e+00\n",
            "Epoch 3/50\n",
            "7/7 [==============================] - 0s 5ms/step - loss: 182106714013696.0000 - accuracy: 0.0000e+00\n",
            "Epoch 4/50\n",
            "7/7 [==============================] - 0s 7ms/step - loss: 170755484549120.0000 - accuracy: 0.0000e+00\n",
            "Epoch 5/50\n",
            "7/7 [==============================] - 0s 5ms/step - loss: 162870092365824.0000 - accuracy: 0.0000e+00\n",
            "Epoch 6/50\n",
            "7/7 [==============================] - 0s 5ms/step - loss: 155227114176512.0000 - accuracy: 0.0000e+00\n",
            "Epoch 7/50\n",
            "7/7 [==============================] - 0s 5ms/step - loss: 149147285979136.0000 - accuracy: 0.0000e+00\n",
            "Epoch 8/50\n",
            "7/7 [==============================] - 0s 5ms/step - loss: 142412441714688.0000 - accuracy: 0.0000e+00\n",
            "Epoch 9/50\n",
            "7/7 [==============================] - 0s 6ms/step - loss: 134771611009024.0000 - accuracy: 0.0000e+00\n",
            "Epoch 10/50\n",
            "7/7 [==============================] - 0s 5ms/step - loss: 128420629446656.0000 - accuracy: 0.0000e+00\n",
            "Epoch 11/50\n",
            "7/7 [==============================] - 0s 5ms/step - loss: 122002211864576.0000 - accuracy: 0.0000e+00\n",
            "Epoch 12/50\n",
            "7/7 [==============================] - 0s 5ms/step - loss: 116492054036480.0000 - accuracy: 0.0000e+00\n",
            "Epoch 13/50\n",
            "7/7 [==============================] - 0s 5ms/step - loss: 110890124836864.0000 - accuracy: 0.0000e+00\n",
            "Epoch 14/50\n",
            "7/7 [==============================] - 0s 5ms/step - loss: 105639544094720.0000 - accuracy: 0.0000e+00\n",
            "Epoch 15/50\n",
            "7/7 [==============================] - 0s 6ms/step - loss: 100389919653888.0000 - accuracy: 0.0000e+00\n",
            "Epoch 16/50\n",
            "7/7 [==============================] - 0s 5ms/step - loss: 96400096362496.0000 - accuracy: 0.0000e+00\n",
            "Epoch 17/50\n",
            "7/7 [==============================] - 0s 5ms/step - loss: 92669774659584.0000 - accuracy: 0.0000e+00\n",
            "Epoch 18/50\n",
            "7/7 [==============================] - 0s 5ms/step - loss: 89668926308352.0000 - accuracy: 0.0000e+00\n",
            "Epoch 19/50\n",
            "7/7 [==============================] - 0s 4ms/step - loss: 85139749076992.0000 - accuracy: 0.0000e+00\n",
            "Epoch 20/50\n",
            "7/7 [==============================] - 0s 4ms/step - loss: 82458347307008.0000 - accuracy: 0.0000e+00\n",
            "Epoch 21/50\n",
            "7/7 [==============================] - 0s 5ms/step - loss: 79405548306432.0000 - accuracy: 0.0000e+00\n",
            "Epoch 22/50\n",
            "7/7 [==============================] - 0s 5ms/step - loss: 75201966505984.0000 - accuracy: 0.0000e+00\n",
            "Epoch 23/50\n",
            "7/7 [==============================] - 0s 7ms/step - loss: 72941681246208.0000 - accuracy: 0.0000e+00\n",
            "Epoch 24/50\n",
            "7/7 [==============================] - 0s 5ms/step - loss: 69909627273216.0000 - accuracy: 0.0000e+00\n",
            "Epoch 25/50\n",
            "7/7 [==============================] - 0s 5ms/step - loss: 67436938264576.0000 - accuracy: 0.0000e+00\n",
            "Epoch 26/50\n",
            "7/7 [==============================] - 0s 4ms/step - loss: 65420379815936.0000 - accuracy: 0.0000e+00\n",
            "Epoch 27/50\n",
            "7/7 [==============================] - 0s 4ms/step - loss: 62927033860096.0000 - accuracy: 0.0000e+00\n",
            "Epoch 28/50\n",
            "7/7 [==============================] - 0s 6ms/step - loss: 59481572507648.0000 - accuracy: 0.0000e+00\n",
            "Epoch 29/50\n",
            "7/7 [==============================] - 0s 4ms/step - loss: 57654609182720.0000 - accuracy: 0.0000e+00\n",
            "Epoch 30/50\n",
            "7/7 [==============================] - 0s 4ms/step - loss: 55413563195392.0000 - accuracy: 0.0000e+00\n",
            "Epoch 31/50\n",
            "7/7 [==============================] - 0s 4ms/step - loss: 53820222603264.0000 - accuracy: 0.0000e+00\n",
            "Epoch 32/50\n",
            "7/7 [==============================] - 0s 5ms/step - loss: 52320960249856.0000 - accuracy: 0.0000e+00\n",
            "Epoch 33/50\n",
            "7/7 [==============================] - 0s 5ms/step - loss: 50197396717568.0000 - accuracy: 0.0000e+00\n",
            "Epoch 34/50\n",
            "7/7 [==============================] - 0s 5ms/step - loss: 49053723262976.0000 - accuracy: 0.0000e+00\n",
            "Epoch 35/50\n",
            "7/7 [==============================] - 0s 5ms/step - loss: 47709515939840.0000 - accuracy: 0.0000e+00\n",
            "Epoch 36/50\n",
            "7/7 [==============================] - 0s 6ms/step - loss: 46339811442688.0000 - accuracy: 0.0000e+00\n",
            "Epoch 37/50\n",
            "7/7 [==============================] - 0s 5ms/step - loss: 45497641336832.0000 - accuracy: 0.0000e+00\n",
            "Epoch 38/50\n",
            "7/7 [==============================] - 0s 5ms/step - loss: 44240725868544.0000 - accuracy: 0.0000e+00\n",
            "Epoch 39/50\n",
            "7/7 [==============================] - 0s 4ms/step - loss: 43106208579584.0000 - accuracy: 0.0000e+00\n",
            "Epoch 40/50\n",
            "7/7 [==============================] - 0s 5ms/step - loss: 42337757560832.0000 - accuracy: 0.0000e+00\n",
            "Epoch 41/50\n",
            "7/7 [==============================] - 0s 4ms/step - loss: 41612835028992.0000 - accuracy: 0.0000e+00\n",
            "Epoch 42/50\n",
            "7/7 [==============================] - 0s 5ms/step - loss: 40893977460736.0000 - accuracy: 0.0000e+00\n",
            "Epoch 43/50\n",
            "7/7 [==============================] - 0s 4ms/step - loss: 39837348397056.0000 - accuracy: 0.0000e+00\n",
            "Epoch 44/50\n",
            "7/7 [==============================] - 0s 4ms/step - loss: 39347227197440.0000 - accuracy: 0.0000e+00\n",
            "Epoch 45/50\n",
            "7/7 [==============================] - 0s 5ms/step - loss: 38559973113856.0000 - accuracy: 0.0000e+00\n",
            "Epoch 46/50\n",
            "7/7 [==============================] - 0s 5ms/step - loss: 38116131864576.0000 - accuracy: 0.0000e+00\n",
            "Epoch 47/50\n",
            "7/7 [==============================] - 0s 5ms/step - loss: 37330995904512.0000 - accuracy: 0.0000e+00\n",
            "Epoch 48/50\n",
            "7/7 [==============================] - 0s 4ms/step - loss: 36939088527360.0000 - accuracy: 0.0000e+00\n",
            "Epoch 49/50\n",
            "7/7 [==============================] - 0s 5ms/step - loss: 36197300699136.0000 - accuracy: 0.0000e+00\n",
            "Epoch 50/50\n",
            "7/7 [==============================] - 0s 4ms/step - loss: 35721905700864.0000 - accuracy: 0.0000e+00\n"
          ]
        },
        {
          "output_type": "execute_result",
          "data": {
            "text/plain": [
              "<keras.callbacks.History at 0x7f9eda55f450>"
            ]
          },
          "metadata": {},
          "execution_count": 56
        }
      ]
    }
  ]
}